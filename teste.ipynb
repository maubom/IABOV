{
 "cells": [
  {
   "cell_type": "code",
   "execution_count": 1,
   "metadata": {},
   "outputs": [],
   "source": [
    "import turtle\n",
    "\n",
    "def tree(branchLen,t):\n",
    "    if branchLen > 5:\n",
    "        t.forward(branchLen)\n",
    "        t.right(30)\n",
    "        tree(branchLen-10,t)\n",
    "        t.left(60)\n",
    "        tree(branchLen-10,t)\n",
    "        t.right(30)\n",
    "        t.backward(branchLen)\n",
    "\n",
    "def main():\n",
    "    t = turtle.Turtle()\n",
    "    myWin = turtle.Screen()\n",
    "    t.left(90)\n",
    "    t.up()\n",
    "    t.backward(100)\n",
    "    t.down()\n",
    "    t.color(\"green\")\n",
    "    tree(80,t)\n",
    "    myWin.exitonclick()\n",
    "\n",
    "main()\n"
   ]
  },
  {
   "cell_type": "code",
   "execution_count": null,
   "metadata": {},
   "outputs": [],
   "source": [
    "import turtle\n",
    "\n",
    "def drawTriangle(points,color,myTurtle):\n",
    "    myTurtle.fillcolor(color)\n",
    "    myTurtle.up()\n",
    "    myTurtle.goto(points[0][0],points[0][1])\n",
    "    myTurtle.down()\n",
    "    myTurtle.begin_fill()\n",
    "    myTurtle.goto(points[1][0],points[1][1])\n",
    "    myTurtle.goto(points[2][0],points[2][1])\n",
    "    myTurtle.goto(points[0][0],points[0][1])\n",
    "    myTurtle.end_fill()\n",
    "\n",
    "def getMid(p1,p2):\n",
    "    return ( (p1[0]+p2[0]) / 2, (p1[1] + p2[1]) / 2)\n",
    "\n",
    "def sierpinski(points,degree,myTurtle):\n",
    "    colormap = ['blue','red','green','white','yellow',\n",
    "                'violet','orange']\n",
    "    drawTriangle(points,colormap[degree],myTurtle)\n",
    "    if degree > 0:\n",
    "        sierpinski([points[0],\n",
    "                        getMid(points[0], points[1]),\n",
    "                        getMid(points[0], points[2])],\n",
    "                   degree-1, myTurtle)\n",
    "        sierpinski([points[1],\n",
    "                        getMid(points[0], points[1]),\n",
    "                        getMid(points[1], points[2])],\n",
    "                   degree-1, myTurtle)\n",
    "        sierpinski([points[2],\n",
    "                        getMid(points[2], points[1]),\n",
    "                        getMid(points[0], points[2])],\n",
    "                   degree-1, myTurtle)\n",
    "\n",
    "def main():\n",
    "   myTurtle = turtle.Turtle()\n",
    "   myWin = turtle.Screen()\n",
    "   myPoints = [[-100,-50],[0,100],[100,-50]]\n",
    "   sierpinski(myPoints,3,myTurtle)\n",
    "   myWin.exitonclick()\n",
    "\n",
    "main()\n",
    "\n"
   ]
  },
  {
   "cell_type": "code",
   "execution_count": 11,
   "metadata": {},
   "outputs": [],
   "source": [
    "import turtle\n",
    "\n",
    "def desenhaQuadradoMulticolorido(t, tam):\n",
    "    \"\"\"Faca a tartaruga t desenhar um quadrado multicolorido de lado tam.\"\"\"\n",
    "    for i in ['red','purple','hotpink','blue']:\n",
    "        t.color(i)\n",
    "        t.forward(tam)\n",
    "        t.left(90)\n",
    "\n",
    "wn = turtle.Screen()              # Inicializa a janela e seus atributos\n",
    "wn.bgcolor(\"lightgreen\")\n",
    "\n",
    "tess = turtle.Turtle()            # cria tess e seus atributos\n",
    "tess.pensize(3)\n",
    "\n",
    "tamanho = 10                      # tamanho do menor quadrado\n",
    "for i in range(30):\n",
    "    desenhaQuadradoMulticolorido(tess, tamanho)\n",
    "    tamanho = tamanho + 5       # aumenta o tamanho para a próxima vez\n",
    "    tess.forward(10)             # move tess um pouco à frente\n",
    "    tess.right(22)               # e dá uma virada nela\n",
    "\n",
    "wn.exitonclick()\n"
   ]
  },
  {
   "cell_type": "code",
   "execution_count": 1,
   "metadata": {},
   "outputs": [],
   "source": [
    "import turtle\n",
    "\n",
    "wn = turtle.Screen()              # Inicializa a janela e seus atributos\n",
    "wn.bgcolor(\"lightgreen\")\n",
    "\n",
    "tess = turtle.Turtle()            # cria tess e seus atributos\n",
    "tess.pensize(3)\n",
    "\n",
    "tamanho = 2                      \n",
    "for i in range(360):     \n",
    "    tess.forward(tamanho)             # move tess um pouco à frente\n",
    "    tess.right(1)               # e dá uma virada nela\n",
    "\n",
    "wn.exitonclick()"
   ]
  },
  {
   "cell_type": "code",
   "execution_count": 1,
   "metadata": {},
   "outputs": [],
   "source": [
    "import turtle\n",
    "\n",
    "wn = turtle.Screen()              # Inicializa a janela e seus atributos\n",
    "wn.bgcolor(\"lightgreen\")\n",
    "\n",
    "tess = turtle.Turtle()            # cria tess e seus atributos\n",
    "tess.pensize(3)\n",
    "tess.penup()\n",
    "tess.goto(0,110)\n",
    "tess.pendown()\n",
    "tamanho = 2                      \n",
    "for i in range(360):     \n",
    "    tess.forward(tamanho)             # move tess um pouco à frente\n",
    "    tess.right(1)               # e dá uma virada nela\n",
    "tess.penup()\n",
    "tess.goto(0,190)\n",
    "tess.pendown()\n",
    "tess.right(45)\n",
    "tamanho = 270\n",
    "for i in range(4):\n",
    "    tess.forward(tamanho)\n",
    "    tess.right(90)    \n",
    "wn.exitonclick()\n"
   ]
  },
  {
   "cell_type": "code",
   "execution_count": 10,
   "metadata": {},
   "outputs": [
    {
     "name": "stdout",
     "output_type": "stream",
     "text": [
      "610\n"
     ]
    }
   ],
   "source": [
    "def fibo(pos,atu,ant,pro):\n",
    "    if pos == 1:\n",
    "        return pro\n",
    "    \n",
    "    pro=atu+ant\n",
    "    ant=atu\n",
    "    atu=pro\n",
    "    return fibo(pos-1,atu,ant,pro)\n",
    "\n",
    "atu = 1\n",
    "ant = 0\n",
    "pro = 0\n",
    "pos = int(input('Entre com a posição do fibonacci a saber: '))\n",
    "print(fibo(pos,atu,ant,pro))"
   ]
  }
 ],
 "metadata": {
  "kernelspec": {
   "display_name": "Python 3.10.5 64-bit",
   "language": "python",
   "name": "python3"
  },
  "language_info": {
   "codemirror_mode": {
    "name": "ipython",
    "version": 3
   },
   "file_extension": ".py",
   "mimetype": "text/x-python",
   "name": "python",
   "nbconvert_exporter": "python",
   "pygments_lexer": "ipython3",
   "version": "3.10.5"
  },
  "orig_nbformat": 4,
  "vscode": {
   "interpreter": {
    "hash": "b195ded4c876e56f36fb4c0019766a9b98ef62e43f047cf98ac44142abe47787"
   }
  }
 },
 "nbformat": 4,
 "nbformat_minor": 2
}
