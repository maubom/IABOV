{
 "cells": [
  {
   "cell_type": "code",
   "execution_count": 1,
   "metadata": {},
   "outputs": [],
   "source": [
    "from pandas_datareader import data as web\n",
    "import pandas as pd\n",
    "import openpyxl\n",
    "\n",
    "\n",
    "empresas = pd.read_excel('empresas.xlsx')\n",
    "cotacao = {}\n",
    "for empresa in empresas['IBOV']:\n",
    "    cotacao_bovespa =  web.DataReader(f'{empresa}.SA', data_source='yahoo', start=\"01-01-2000\", end=\"12-31-2022\") \n",
    "    cotacao_bovespa['IBOV'] = f'{empresa}'\n",
    "    if len(cotacao)==0: \n",
    "        cotacao = cotacao_bovespa            \n",
    "    else:\n",
    "        cotacao = pd.concat([cotacao,cotacao_bovespa])\n",
    "with pd.ExcelWriter(\"cotacoes.xlsx\") as writer:\n",
    "    cotacao.to_excel(writer)\n"
   ]
  },
  {
   "cell_type": "code",
   "execution_count": null,
   "metadata": {},
   "outputs": [],
   "source": []
  }
 ],
 "metadata": {
  "kernelspec": {
   "display_name": "Python 3.10.5 64-bit",
   "language": "python",
   "name": "python3"
  },
  "language_info": {
   "codemirror_mode": {
    "name": "ipython",
    "version": 3
   },
   "file_extension": ".py",
   "mimetype": "text/x-python",
   "name": "python",
   "nbconvert_exporter": "python",
   "pygments_lexer": "ipython3",
   "version": "3.10.5"
  },
  "orig_nbformat": 4,
  "vscode": {
   "interpreter": {
    "hash": "b195ded4c876e56f36fb4c0019766a9b98ef62e43f047cf98ac44142abe47787"
   }
  }
 },
 "nbformat": 4,
 "nbformat_minor": 2
}
